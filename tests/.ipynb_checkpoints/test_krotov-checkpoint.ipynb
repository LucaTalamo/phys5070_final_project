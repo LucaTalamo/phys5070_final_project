{
 "cells": [
  {
   "cell_type": "markdown",
   "metadata": {},
   "source": [
    "# Notebook description\n",
    "\n",
    "Now that I know how to use Qutip, I want to try implementing Krotov's method, which is an optimization method used to find optimal quantum trajectories. Luckily, there's a python package called `krotov` which does this and it's built off of `qutip`.\n",
    "\n",
    "In the process of reeading the `krotov` documentation, I've also learned how to structure my `qutip` code in a more readable way.\n",
    "\n",
    "## The `krotov` package\n",
    "\n",
    "The idea is that we have some time-dependant Hamiltonian \n",
    "\n",
    "\\\\[\n",
    "    H(t) = H_0 + \\sum_l \\epsilon_l (t) H_i\n",
    "\\\\]\n",
    "\n",
    ", possibly under damping, and some mixed initial states $\\{\\rho_k(0)\\}$. We want to find a set $\\{\\tilde{\\epsilon}_l(t)\\}$ which cause the mixed states to evolve to $\\{\\rho_k(t)\\}$ for time $T$ so they minimize the functional\n",
    "\n",
    "\\\\[\n",
    "    J[\\{\\rho_k(t)\\}, \\{\\epsilon_l(t)\\}] = J_T[\\{\\rho_k(T)\\}] + \\sum_l \\int_0^T g_a(\\epsilon_l(t)) + \\int_0^T g_b(\\{\\rho_k(t)\\})\n",
    "\\\\]\n",
    "\n",
    "The first term is a cost function which penalizes final state overlap. The second term penalizes structure in the driving fields (i.e. we ideally want them to be smooth). The third term penalizes state overlap throughout the total evolution of the states.\n",
    "\n",
    "The `krotov` package implements the Krotov method to minimize a functional with only the ffirst 2 terms. Details can be found in this paper: https://arxiv.org/pdf/1902.11284.pdf. The methods updates the control fields $\\{\\epsilon_l(t)\\}$ by using a shooting method so that the cost function converges to a minimum."
   ]
  },
  {
   "cell_type": "code",
   "execution_count": 252,
   "metadata": {},
   "outputs": [],
   "source": [
    "import numpy as np\n",
    "import matplotlib.pyplot as plt\n",
    "import qutip as qt\n",
    "import krotov"
   ]
  },
  {
   "cell_type": "markdown",
   "metadata": {},
   "source": [
    "# Example 1: using the package with density matrices\n",
    "\n",
    "We can follow [this](https://qucontrol.github.io/krotov/v1.0.0/notebooks/01_example_simple_state_to_state.html) example to optimize state-to-state transfer for a 2-state system under $H_0 = -\\frac{\\omega}{2}\\sigma_z$ and $H_1 = \\epsilon (t) \\sigma_x$. We will recreate this 2-state optimization in density matrix form in preperation for using the `Krotov` package on our optomechanical control problem. [This](https://qucontrol.github.io/krotov/v1.0.0/notebooks/04_example_dissipative_qubit_reset.html) is a good reference for density matrix optimizations, which include dissipation. There is extra information about optimization over joint systems, which we'll use in later examples.\n",
    "\n",
    "## Initializing the Liovillian\n",
    "First we define the splitting frequency, and we define a Liouvilian `qobj`. Instead of specifying jump operators `c_ops` as in our `test_qutip_examples.py` script, we can define a \"superoperator' object which acts to time-evolve the density matrix according to\n",
    "\n",
    "\\\\[\n",
    "    \\dot{\\rho}(t) = \\mathcal{L}(t)\\rho(t)\n",
    "\\\\]\n",
    "\n",
    "This takes the role of the master equation. `qutip` is setup to handle simulations when superoperators are specified as argument in `qutip.mesolve`. In practice, we won't worry about how `qutip` does this. The `krotov` package abstracts things for us, so long as we call its functions properly. We'll begin by defining our Liouvillian using the `qutip.liouvillian()` function. We won't include jump operators for now, because this system is not dissipative."
   ]
  },
  {
   "cell_type": "code",
   "execution_count": 302,
   "metadata": {},
   "outputs": [],
   "source": [
    "omega = 1.0 # angular frequency in 2*pi*Hz\n",
    "\n",
    "def Liouvillian(omega = 1.0, amp00 = 0.2):\n",
    "    '''\n",
    "    Defines the Liovillian qutip object which will govern time evolution of the 2-level system.\n",
    "    \n",
    "    Args:\n",
    "        omega: qubit angular frequency\n",
    "        amp10: initial driving field amplitude\n",
    "    '''\n",
    "    \n",
    "    # TLS Hamiltonian\n",
    "    H0 = -omega*qt.sigmaz()/2\n",
    "    L0 = qt.liouvillian(H0)\n",
    "    # TLS driving field\n",
    "    H1 = qt.sigmax()\n",
    "    L1 = qt.liouvillian(H1)\n",
    "    \n",
    "    # define driving field coefficient\n",
    "    eps0 = lambda t, args: amp00\n",
    "    \n",
    "    return [L0, [L1, eps0]]\n",
    "\n",
    "L = Liouvillian(omega = omega)"
   ]
  },
  {
   "cell_type": "markdown",
   "metadata": {},
   "source": [
    "## Defining target states\n",
    "\n",
    "We define a list of `objectives`, which included the inital and final states, and the Liovillian object. This object will eventually be passed to the optimization function."
   ]
  },
  {
   "cell_type": "code",
   "execution_count": 303,
   "metadata": {},
   "outputs": [
    {
     "data": {
      "text/plain": [
       "[Objective[ρ₁₄[2,2] to ρ₁₅[2,2] via [𝓛₀[[2,2],[2,2]], [𝓛₁[[2,2],[2,2]], u₇(t)]]]]"
      ]
     },
     "execution_count": 303,
     "metadata": {},
     "output_type": "execute_result"
    }
   ],
   "source": [
    "# initial state\n",
    "rho_init = qt.fock_dm(2,0)\n",
    "# final state\n",
    "rho_final = qt.fock_dm(2,1)\n",
    "\n",
    "objectives = [krotov.Objective(initial_state = rho_init, target = rho_final, H=L)]\n",
    "objectives"
   ]
  },
  {
   "cell_type": "markdown",
   "metadata": {},
   "source": [
    "## Defining the Krotov step sizes\n",
    "\n",
    "Updates in the control field occur proportional to $\\frac{S(t)}{\\lambda_a}$. $\\lambda_a$ sets the global update step while $S(t) \\in [0,1]$ scales the relative size between different times. We want the endpoints of the pulses to stay fixed, so we set $S(0) = S(T) = 0$. We ramp up to 1 using a `blackman` envelope, which is built into the `krotov` package. We then define a `pulse_options` dictionary which will be fed into the optimization function to inform it off our $S(t)$ and $\\lambda_a$ choices.\n",
    "\n",
    "Before creating this dictionary, we can optionally update the initial field amplitude $\\epsilon_0(t)$. We choose to window it using the `blackman` function so that the field starts and stops smoothly at zero. We could have chosen any function."
   ]
  },
  {
   "cell_type": "code",
   "execution_count": 304,
   "metadata": {},
   "outputs": [],
   "source": [
    "# define shape function\n",
    "def S(t):\n",
    "    \"\"\"Shape function for the field update\"\"\"\n",
    "    return krotov.shapes.flattop(\n",
    "        t, t_start=0, t_stop=5, t_rise=0.3, t_fall=0.3, func='blackman'\n",
    "    )\n",
    "\n",
    "# define function to update initial amplitude\n",
    "def shape_field(eps0):\n",
    "    \"\"\"Applies the shape function S(t) to the guess field\"\"\"\n",
    "    eps0_shaped = lambda t, args: eps0(t, args) * S(t)\n",
    "    return eps0_shaped\n",
    "\n",
    "# Update pulse amplitude by the shape function\n",
    "L[1][1] = shape_field(L[1][1])\n",
    "\n",
    "\n",
    "# define pulse options dictionary\n",
    "pulse_options = {L[1][1]: dict(lambda_a=5, update_shape=S)}"
   ]
  },
  {
   "cell_type": "markdown",
   "metadata": {},
   "source": [
    "## Simulate the initial piulse amplitude"
   ]
  },
  {
   "cell_type": "code",
   "execution_count": 305,
   "metadata": {},
   "outputs": [
    {
     "data": {
      "image/png": "[encoded data removed]",
      "text/plain": [
       "<Figure size 432x288 with 1 Axes>"
      ]
     },
     "metadata": {
      "needs_background": "light"
     },
     "output_type": "display_data"
    }
   ],
   "source": [
    "tlist = np.linspace(0, 5, 500)\n",
    "\n",
    "def plot_pulse(pulse, tlist):\n",
    "    fig, ax = plt.subplots()\n",
    "    if callable(pulse):\n",
    "        pulse = np.array([pulse(t, args=None) for t in tlist])\n",
    "    ax.plot(tlist, pulse)\n",
    "    ax.set_xlabel('time')\n",
    "    ax.set_ylabel('pulse amplitude')\n",
    "    plt.show(fig)\n",
    "    \n",
    "plot_pulse(L[1][1], tlist)"
   ]
  },
  {
   "cell_type": "markdown",
   "metadata": {},
   "source": [
    "## Define the projectors onto the ground and excited states and plot dynamics under guess field\n",
    "\n",
    "We notice that the expected dynamics are recovered."
   ]
  },
  {
   "cell_type": "code",
   "execution_count": 306,
   "metadata": {},
   "outputs": [
    {
     "data": {
      "image/png": "[encoded data removed]",
      "text/plain": [
       "<Figure size 432x288 with 1 Axes>"
      ]
     },
     "metadata": {
      "needs_background": "light"
     },
     "output_type": "display_data"
    }
   ],
   "source": [
    "proj0 = qt.ket2dm(qt.ket(\"0\")) # ground state projector\n",
    "proj1 = qt.ket2dm(qt.ket(\"1\")) # excited state projector\n",
    "\n",
    "# time-step forward\n",
    "guess_dynamics = objectives[0].mesolve(\n",
    "    tlist, e_ops=[proj0, proj1]\n",
    ")\n",
    "\n",
    "# define plotting function\n",
    "def plot_population(result):\n",
    "    fig, ax = plt.subplots()\n",
    "    ax.plot(\n",
    "        result.times,\n",
    "        np.array(result.expect[0]),\n",
    "        label='ground state population',\n",
    "    )\n",
    "    ax.plot(\n",
    "        result.times,\n",
    "        np.array(result.expect[1]),\n",
    "        label='exited state population',\n",
    "    )\n",
    "    ax.legend()\n",
    "    ax.set_xlabel('time')\n",
    "    ax.set_ylabel('population')\n",
    "    plt.show(fig)\n",
    "\n",
    "\n",
    "plot_population(guess_dynamics)"
   ]
  },
  {
   "cell_type": "markdown",
   "metadata": {},
   "source": [
    "## Initial conditions for the back-propagation\n",
    "\n",
    "`chi_constructor` requires a function which specifies the initial condition for the backward propagation of the Krotov algorithm. To guarantee convergence, this state is written in terms of covector derivative according to\n",
    "\n",
    "\\\\[\n",
    "    |\\chi^{(i-1)}(T)>> = - \\frac{d J_T}{<<\\rho^{(i-1)}(T)|}\n",
    "\\\\]\n",
    "\n",
    "where $J_T$ is the part of the cost function that penalizes final state overlap, and $<<\\phi^{(i-1)}(T)|$ is a covector in the state of spaces which we're optimizing over. That is, if we're only dealing with pure states, $<<\\rho^{(i-1)}(T)| := <\\phi^{(i-1)}(T)|$ is a ket vector. In the example we're working through, the functional $J_T = 1 - |<\\phi^{targ}|\\phi(T)>|^2$ gives us the backward propagation initial state\n",
    "\n",
    "\n",
    "\\\\[\n",
    "    |\\chi^{(i-1)}(T)> = <\\phi^{targ}|\\phi(T)> \\ |\\phi^{targ}>\n",
    "\\\\]\n",
    "\n",
    "\n",
    "Things get more complicated if we're optimizing over the space of density matrices. In this case $<<\\rho^{(i-1)}(T)|$ is the notiational representation of $(\\rho^{(i-1)})^T(T)$. A similar correspondance occurs between $|\\rho^{(i-1)}(T)>>$ and $\\rho^{(i-1)}(T)$. The goal becomes to write a cost function in terms of these abstract representations of mixed states. We want\n",
    "\n",
    "\\\\[\n",
    "    J_T = 1 - |<<\\phi^{targ}|\\phi(T)>>|^2\n",
    "\\\\]\n",
    "\n",
    "for a suitably defifned norm. That is, we want the norm to recover the pure-state expression when our states our pure. It turns out the Hilbert-Schmidt norm is what we're looking for. This norm is defined by\n",
    "\n",
    "\\\\[\n",
    "    <<\\rho^{targ}|\\rho(T)>> := \\text{tr}\\Big[(\\rho^{targ})^T \\rho(T)\\Big]\n",
    "\\\\]\n",
    "\n",
    "The corresponding backpropagation covector is\n",
    "\n",
    "\\\\[\n",
    "    |\\chi^{(i-1)}(T)>> = <<\\rho^{targ}|\\rho(T)>> \\ |\\rho^{targ}>>\n",
    "\\\\]"
   ]
  },
  {
   "cell_type": "code",
   "execution_count": 386,
   "metadata": {},
   "outputs": [],
   "source": [
    "def chi_ss_dm(fw_states_T, objectives, tau_vals):\n",
    "    \"\"\"\n",
    "    Calculate chis for the chosen functional\n",
    "    \n",
    "    fw_states_T: list of forward-propagating states at time T\n",
    "    objectives: krotov.Objective object, passed auutmatically by krotov.optimize_pulses\n",
    "    tau_values: list of complex overlaps between fw_states_T and targets in objectives variable,\n",
    "                given by inner product in Hilbert space or Hilbert-Schmidt product in Liouville\n",
    "                space (space of density matrices)\n",
    "                \n",
    "    Returns:\n",
    "        list containing the chi states\n",
    "    \"\"\"\n",
    "    \n",
    "    # overlap of fw_states_T[0] with target state\n",
    "    tau = tau_vals[0]\n",
    "    \n",
    "    # calculate chi\n",
    "    chi = tau * rho_final\n",
    "    chis = [chi] # return in list\n",
    "    \n",
    "    return chis"
   ]
  },
  {
   "cell_type": "markdown",
   "metadata": {},
   "source": [
    "## Defining the target functional\n",
    "\n",
    "We already know what this is from the proceeding explanation. Now we write it out explicitly to give out algorithm a deifnite stopping point."
   ]
  },
  {
   "cell_type": "code",
   "execution_count": 403,
   "metadata": {},
   "outputs": [],
   "source": [
    "def J_T_ss_HS(fw_states_T, objectives, tau_vals=None, **kwargs):\n",
    "    \"\"\"\n",
    "    Calculate chis for the chosen functional\n",
    "    \n",
    "    fw_states_T: list of forward-propagating states at time T\n",
    "    objectives: krotov.Objective object, passed auutmatically by krotov.optimize_pulses\n",
    "    tau_values: list of complex overlaps between fw_states_T and targets in objectives variable,\n",
    "                given by inner product in Hilbert space or Hilbert-Schmidt product in Liouville\n",
    "                space (space of density matrices)\n",
    "                \n",
    "    The `kwargs` are ignored, allowing the function to be used in an\n",
    "    `info_hook`.\n",
    "                \n",
    "    Returns:\n",
    "        (float) cost function value between 0 and 1\n",
    "    \"\"\"\n",
    "    \n",
    "    # overlap of fw_states_T[0] with target state\n",
    "    tau = tau_vals[0]\n",
    "    \n",
    "    # cost function value\n",
    "    cost = 1 - np.abs(tau)**2\n",
    "    \n",
    "    return cost"
   ]
  },
  {
   "cell_type": "markdown",
   "metadata": {},
   "source": [
    "## Optimizing the pulse sequence\n",
    "\n",
    "We optimize our pulse amplitude by calling the `krotov.optimize_pulses()` function. There are several arguments we must pass. We've already defined 3: `objectives` is the list of targets and the Liovillian that we previously constructed; `pulse_options` scale the update parameters at each time step; `tlist` is a time array; and `chi_constructor` is the function that we use to initialize the backqard propagation.\n",
    "\n",
    "There are several new arguments as well. `propagator` is one of several `krotov` module-defined propagators which evolve the initial state forwards and backwards in time. Available propagators can be found [here](https://qucontrol.github.io/krotov/v1.0.0/API/krotov.propagators.html?highlight=propagator#krotov.propagators.DensityMatrixODEPropagator). We use the `krotov.propagators.DensityMatrixODEPropagator()`, which propagates density matrices under the action of Liovillian objects.\n",
    "\n",
    "The `info_hook` argument specifies an object that stores information as the optimization progresses. In this case, we choose too assign to it a table object with varioous cost functions. We calculate the target cost function `J_T` using our target functional from the preceeding argument. \n",
    "\n",
    "The `check_convergence` argument can be specified to stop the optimization when a specific goals ar achieved. In this case, we string together 2 checks using `krotov.convergence.or`. `krotov.convergence.value_below` accesses the `info_hook` to check if we're below a certain threshhold for `J_T`. `krotov.convergence.check_monotonic_error` returns an error if `J_T` stops decreasing montonically."
   ]
  },
  {
   "cell_type": "code",
   "execution_count": 404,
   "metadata": {},
   "outputs": [
    {
     "name": "stdout",
     "output_type": "stream",
     "text": [
      "iter.      J_T    ∫gₐ(t)dt          J       ΔJ_T         ΔJ  secs\n",
      "0     9.98e-01    0.00e+00   9.98e-01        n/a        n/a     0\n",
      "1     9.97e-01    2.26e-05   9.97e-01  -2.52e-04  -2.29e-04     0\n",
      "2     9.97e-01    2.62e-05   9.97e-01  -2.78e-04  -2.52e-04     0\n",
      "3     9.97e-01    3.05e-05   9.97e-01  -3.08e-04  -2.77e-04     0\n",
      "4     9.96e-01    3.56e-05   9.96e-01  -3.94e-04  -3.58e-04     0\n",
      "5     9.96e-01    4.23e-05   9.96e-01  -4.72e-04  -4.30e-04     0\n",
      "6     9.95e-01    5.08e-05   9.95e-01  -5.35e-04  -4.84e-04     0\n",
      "7     9.95e-01    6.12e-05   9.95e-01  -6.53e-04  -5.92e-04     0\n",
      "8     9.94e-01    7.46e-05   9.94e-01  -8.02e-04  -7.27e-04     0\n",
      "9     9.93e-01    9.23e-05   9.93e-01  -1.01e-03  -9.14e-04     0\n",
      "10    9.92e-01    1.16e-04   9.92e-01  -1.26e-03  -1.15e-03     0\n",
      "11    9.90e-01    1.48e-04   9.90e-01  -1.60e-03  -1.45e-03     0\n",
      "12    9.88e-01    1.92e-04   9.88e-01  -2.11e-03  -1.92e-03     0\n",
      "13    9.85e-01    2.56e-04   9.85e-01  -2.77e-03  -2.51e-03     0\n",
      "14    9.81e-01    3.47e-04   9.82e-01  -3.80e-03  -3.46e-03     0\n",
      "15    9.76e-01    4.85e-04   9.76e-01  -5.42e-03  -4.94e-03     0\n",
      "16    9.68e-01    7.03e-04   9.69e-01  -7.87e-03  -7.16e-03     0\n",
      "17    9.56e-01    1.06e-03   9.57e-01  -1.18e-02  -1.07e-02     0\n",
      "18    9.37e-01    1.65e-03   9.39e-01  -1.90e-02  -1.73e-02     0\n",
      "19    9.06e-01    2.72e-03   9.09e-01  -3.14e-02  -2.87e-02     0\n",
      "20    8.51e-01    4.64e-03   8.56e-01  -5.46e-02  -5.00e-02     0\n",
      "21    7.55e-01    8.10e-03   7.63e-01  -9.66e-02  -8.85e-02     0\n",
      "22    5.94e-01    1.35e-02   6.07e-01  -1.61e-01  -1.48e-01     0\n",
      "23    3.78e-01    1.88e-02   3.97e-01  -2.16e-01  -1.97e-01     0\n",
      "24    1.80e-01    1.79e-02   1.98e-01  -1.98e-01  -1.80e-01     0\n",
      "25    6.60e-02    1.08e-02   7.68e-02  -1.14e-01  -1.03e-01     0\n",
      "26    2.14e-02    4.47e-03   2.59e-02  -4.46e-02  -4.01e-02     0\n",
      "27    6.42e-03    1.60e-03   8.02e-03  -1.50e-02  -1.34e-02     0\n",
      "28    1.69e-03    5.34e-04   2.23e-03  -4.72e-03  -4.19e-03     0\n",
      "29    3.36e-04    1.72e-04   5.07e-04  -1.36e-03  -1.19e-03     0\n"
     ]
    }
   ],
   "source": [
    "opt_result = krotov.optimize_pulses(\n",
    "    objectives,\n",
    "    pulse_options=pulse_options,\n",
    "    tlist=tlist,\n",
    "    propagator=krotov.propagators.DensityMatrixODEPropagator(),\n",
    "    chi_constructor=chi_ss_dm,\n",
    "    info_hook=krotov.info_hooks.print_table(J_T=J_T_ss_HS),\n",
    "    check_convergence=krotov.convergence.Or(\n",
    "        krotov.convergence.value_below('1e-3', name='J_T'),\n",
    "        krotov.convergence.check_monotonic_error,\n",
    "    )\n",
    "#     info_hook=krotov.info_hooks.chain(\n",
    "#         krotov.info_hooks.print_debug_information\n",
    "#     ),\n",
    "#     iter_stop = 25\n",
    ")"
   ]
  },
  {
   "cell_type": "markdown",
   "metadata": {},
   "source": [
    "## Graph the results\n",
    "\n",
    "We recover the results from the [pure-state optimization example](https://qucontrol.github.io/krotov/v1.2.1/notebooks/01_example_simple_state_to_state.html). We now know how to use the Krotov package to optimize trajectories between target density matrices!"
   ]
  },
  {
   "cell_type": "code",
   "execution_count": 406,
   "metadata": {},
   "outputs": [
    {
     "data": {
      "image/png": "[encoded data removed]",
      "text/plain": [
       "<Figure size 432x288 with 1 Axes>"
      ]
     },
     "metadata": {
      "needs_background": "light"
     },
     "output_type": "display_data"
    }
   ],
   "source": [
    "optimized_dynamics = opt_result.optimized_objectives[0].mesolve(\n",
    "    tlist, e_ops=[proj0,proj1]\n",
    ")\n",
    "\n",
    "plot_population(optimized_dynamics)"
   ]
  }
 ],
 "metadata": {
  "kernelspec": {
   "display_name": "Python 3",
   "language": "python",
   "name": "python3"
  },
  "language_info": {
   "codemirror_mode": {
    "name": "ipython",
    "version": 3
   },
   "file_extension": ".py",
   "mimetype": "text/x-python",
   "name": "python",
   "nbconvert_exporter": "python",
   "pygments_lexer": "ipython3",
   "version": "3.7.6"
  }
 },
 "nbformat": 4,
 "nbformat_minor": 4
}
